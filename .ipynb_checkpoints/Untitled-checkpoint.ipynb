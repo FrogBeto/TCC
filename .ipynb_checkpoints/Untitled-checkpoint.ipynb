{
 "cells": [
  {
   "cell_type": "code",
   "execution_count": 2,
   "id": "da930b07-c407-4775-b036-0e14b6bd82b1",
   "metadata": {},
   "outputs": [],
   "source": [
    "import numpy as np\n",
    "import pandas as pd\n",
    "import matplotlib.pyplot as plt\n",
    "from ipywidgets import interact, fixed, interact_manual\n",
    "import ipywidgets as widget\n"
   ]
  },
  {
   "cell_type": "code",
   "execution_count": 3,
   "id": "aa15ba96-320e-4fa5-a4b9-205cb4d534c1",
   "metadata": {},
   "outputs": [
    {
     "data": {
      "image/png": "[encoded data removed]",
      "text/plain": [
       "<Figure size 640x480 with 1 Axes>"
      ]
     },
     "metadata": {},
     "output_type": "display_data"
    }
   ],
   "source": [
    "# criando uma função afim:\n",
    "def f(x):\n",
    "  plt.plot(np.arange(0,10), x*np.arange(0,10))\n",
    "  plt.ylim(-30,30)\n",
    "\n",
    "# passando x = 0\n",
    "f(0)"
   ]
  },
  {
   "cell_type": "code",
   "execution_count": 4,
   "id": "131d5d87-53fd-4f8f-866a-680719ea5a31",
   "metadata": {},
   "outputs": [
    {
     "data": {
      "application/vnd.jupyter.widget-view+json": {
       "model_id": "7f0dc14ab963458a91f247ab6df0b944",
       "version_major": 2,
       "version_minor": 0
      },
      "text/plain": [
       "interactive(children=(IntSlider(value=2, description='x', max=10, min=-5), Output()), _dom_classes=('widget-in…"
      ]
     },
     "metadata": {},
     "output_type": "display_data"
    }
   ],
   "source": [
    "# chamando a função interact\n",
    "interact(f, x=(-5, 10,1));"
   ]
  },
  {
   "cell_type": "code",
   "execution_count": null,
   "id": "37c50730-aa7a-43dc-8834-1004bddd5570",
   "metadata": {},
   "outputs": [],
   "source": []
  }
 ],
 "metadata": {
  "kernelspec": {
   "display_name": "Python 3 (ipykernel)",
   "language": "python",
   "name": "python3"
  },
  "language_info": {
   "codemirror_mode": {
    "name": "ipython",
    "version": 3
   },
   "file_extension": ".py",
   "mimetype": "text/x-python",
   "name": "python",
   "nbconvert_exporter": "python",
   "pygments_lexer": "ipython3",
   "version": "3.13.4"
  }
 },
 "nbformat": 4,
 "nbformat_minor": 5
}
