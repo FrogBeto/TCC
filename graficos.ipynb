{
 "cells": [
  {
   "cell_type": "code",
   "id": "da930b07-c407-4775-b036-0e14b6bd82b1",
   "metadata": {},
   "source": [
    "import pandas as pd\n",
    "import matplotlib.pyplot as plt\n",
    "from ipywidgets import interact\n",
    "import plotly.express as px\n"
   ],
   "outputs": [],
   "execution_count": null
  },
  {
   "cell_type": "code",
   "id": "aa15ba96-320e-4fa5-a4b9-205cb4d534c1",
   "metadata": {},
   "source": [
    "#Coleta dos bancos de dados de usuários e projetos\n",
    "\n",
    "df = pd.read_csv('CSVs/Dados Finais/dadosFinais2.csv', sep=';')\n",
    "lista = pd.read_csv('CSVs/Dados Brutos/projetos.csv', sep='\\t').sort_values(['Projeto'], ascending=True).reset_index(drop=True)"
   ],
   "outputs": [],
   "execution_count": null
  },
  {
   "cell_type": "code",
   "id": "5e066e0dde6e0def",
   "metadata": {},
   "source": [
    "#Cria uma lista com todos os projetos\n",
    "projetos = []\n",
    "\n",
    "for x in lista['Projeto']:\n",
    "    projetos.append(x)"
   ],
   "outputs": [],
   "execution_count": null
  },
  {
   "cell_type": "code",
   "id": "c770e7538fe770b1",
   "metadata": {},
   "source": [
    "#Função que cria um gráfico de contribuições feitas por cada país\n",
    "def graficopais(projeto):\n",
    "    #If responsavél por mudar a organização do banco de dados caso seja geral ou especifico\n",
    "    if projeto == \"Geral\":\n",
    "        paises = df.groupby(['País']).sum().reset_index().sort_values('Contribuições', ascending=False).reset_index(drop=True)\n",
    "    else:\n",
    "        paises = df.groupby(['País', 'Projeto']).sum().reset_index().sort_values(['Projeto', 'Contribuições'], ascending=False).reset_index(drop=True)\n",
    "\n",
    "    #Variavéis que vão armazenar os nomes e contribuições de cada país\n",
    "    nomes_paises = []\n",
    "    n_contrib = []\n",
    "    contador = 0                        #O contador serve para mostrar apenas os países que mais contribuiram\n",
    "\n",
    "    #For responsavel por percorrer o tamanho da variavel paises\n",
    "    for x in range(len(paises)):\n",
    "        #Aqui é separado o projeto escolhido ou se todos devem ser considerados\n",
    "        if projeto == \"Geral\" or paises['Projeto'][x] == projeto:\n",
    "            #Esse segunfo If ignora as contribuições nulas ou países que não contribuiram o bastante\n",
    "            if paises['País'][x] != \"<null>\" and contador < 10:\n",
    "                #Atribuição dos valores e incremento do contador\n",
    "                nomes_paises.append(paises['País'][x])\n",
    "                n_contrib.append(paises['Contribuições'][x])\n",
    "                contador += 1\n",
    "\n",
    "    #Grafico sendo feito, com as suas opções estéticas, como linhas e orientação dos nomes\n",
    "    plt.bar(nomes_paises, n_contrib, zorder=2)\n",
    "    plt.title(\"Contribuições por País - \" + projeto)\n",
    "    plt.xlabel(\"Países\")\n",
    "    plt.ylabel(\"Número de contribuições\")\n",
    "    plt.grid(axis='y', linestyle='--', zorder=1)\n",
    "    plt.xticks(nomes_paises, rotation='vertical')\n",
    "    plt.show()"
   ],
   "outputs": [],
   "execution_count": null
  },
  {
   "cell_type": "code",
   "id": "8288a001d25e6d02",
   "metadata": {},
   "source": [
    "interact(graficopais, projeto=projetos);"
   ],
   "outputs": [],
   "execution_count": null
  },
  {
   "cell_type": "code",
   "id": "b4f2c762d744efa1",
   "metadata": {},
   "source": [
    "#Função que cria um gráfico da porcentagem de perfis abandonados\n",
    "def graficoabandonos(projeto):\n",
    "    #If responsavél por mudar a organização do banco de dados caso seja geral ou especifico\n",
    "    if projeto == \"Geral\":\n",
    "        abandonos = df.groupby(['Atualizado_em_Ano']).size().reset_index(name='Quantidade').sort_values('Atualizado_em_Ano', ascending=False).reset_index(drop=True)\n",
    "    else:\n",
    "        abandonos = df.groupby(['Projeto', 'Atualizado_em_Ano']).size().reset_index(name='Quantidade').sort_values(['Projeto', 'Atualizado_em_Ano'], ascending=False).reset_index(drop=True)\n",
    "\n",
    "    #Variavéis que vão armazenar os anos e quantidades\n",
    "    ano = []\n",
    "    quantidade = []\n",
    "    outros = 0                  #Serve para somar a quantidade de anos além de 2025 e 2024 devido à baixa quantidade\n",
    "\n",
    "    #For responsavél por percorrer o tamanho da variavél abandonos\n",
    "    for x in range(len(abandonos)):\n",
    "        #Aqui é separado o projeto escolhido ou se todos devem ser considerados\n",
    "        if projeto == \"Geral\" or abandonos['Projeto'][x] == projeto:\n",
    "            #Inclui os anos de 2025 e 2024, para além deles, todos são todos somados juntos\n",
    "            if abandonos['Atualizado_em_Ano'][x] == 2025 or abandonos['Atualizado_em_Ano'][x] == 2024:\n",
    "                ano.append(abandonos['Atualizado_em_Ano'][x])\n",
    "                quantidade.append(abandonos['Quantidade'][x])\n",
    "            else:\n",
    "                outros = outros + abandonos['Quantidade'][x]\n",
    "\n",
    "    #Criação do grafico de pizza com preferências estéticas\n",
    "    ano.append('Outros Anos')\n",
    "    quantidade.append(outros)\n",
    "    plt.title(\"Último Ano de Atividade - \" + projeto)\n",
    "    plt.pie(\n",
    "        quantidade,\n",
    "        labels=ano,\n",
    "        autopct='%1.1f%%',\n",
    "    )\n",
    "    plt.show()"
   ],
   "outputs": [],
   "execution_count": null
  },
  {
   "cell_type": "code",
   "id": "85c4cbbde2a8f670",
   "metadata": {},
   "source": [
    "interact(graficoabandonos, projeto=projetos);"
   ],
   "outputs": [],
   "execution_count": null
  },
  {
   "cell_type": "code",
   "id": "de8a5b4105b31f99",
   "metadata": {},
   "source": [
    "#Função que cria um gráfico das idades das contas que mais contribuiram\n",
    "def graficocriacao(projeto):\n",
    "    #If responsavél por mudar a organização do banco de dados caso seja geral ou especifico\n",
    "    if projeto == \"Geral\":\n",
    "        criacao = df.groupby(['Criado_em_Ano']).size().reset_index(name='Quantidade').sort_values('Criado_em_Ano', ascending=False).reset_index(drop=True)\n",
    "    else:\n",
    "        criacao = df.groupby(['Projeto', 'Criado_em_Ano']).size().reset_index(name='Quantidade').sort_values('Projeto', ascending=False).reset_index(drop=True)\n",
    "\n",
    "    #Variaveis para armazenar os anos e as quantidades\n",
    "    ano = []\n",
    "    quantidade = []\n",
    "\n",
    "    #For responsavél por percorrer o tamanho da variavél criacao\n",
    "    for x in range(len(criacao)):\n",
    "        #Aqui é separado o projeto escolhido ou se todos devem ser considerados\n",
    "        if projeto == \"Geral\" or criacao['Projeto'][x] == projeto:\n",
    "            ano.append(criacao['Criado_em_Ano'][x])\n",
    "            quantidade.append(criacao['Quantidade'][x])\n",
    "\n",
    "    #Grafico sendo feito, com as suas opções estéticas, como linhas, titulo e etc\n",
    "    plt.title(\"Idade das Contas - \" + projeto)\n",
    "    plt.bar(ano, quantidade, zorder=2)\n",
    "    plt.xlabel(\"Ano de Criação\")\n",
    "    plt.ylabel(\"Número de Contas\")\n",
    "    plt.grid(axis='y', linestyle='--', zorder=1)\n",
    "    plt.show()"
   ],
   "outputs": [],
   "execution_count": null
  },
  {
   "cell_type": "code",
   "id": "98dcdd4409404c70",
   "metadata": {},
   "source": [
    "interact(graficocriacao, projeto=projetos);"
   ],
   "outputs": [],
   "execution_count": null
  },
  {
   "cell_type": "code",
   "id": "fd745a7d411fbf8e",
   "metadata": {},
   "source": [
    "#Função que cria um gráfico das contribuições por idade das contas que mais contribuiram\n",
    "def graficocontribuicoes(projeto):\n",
    "    #If responsavél por mudar a organização do banco de dados caso seja geral ou especifico\n",
    "    if projeto == \"Geral\":\n",
    "        contribuicoes = df.groupby(['Criado_em_Ano', 'Contribuições']).size().reset_index(name='Quantidade')\n",
    "    else:\n",
    "        contribuicoes = df.groupby(['Criado_em_Ano', 'Contribuições', 'Projeto']).size().reset_index(\n",
    "            name='Quantidade').sort_values(by=['Projeto', 'Criado_em_Ano'], ascending=False).reset_index(drop=True)\n",
    "\n",
    "    #Variaveis que vão armazenar o ano de criação, a quantidade de contribuições feita por cada, o pai de cada valor no gráfico e uma variavel auxiliar\n",
    "    ano = []\n",
    "    quantidade = []\n",
    "    pais = []\n",
    "    aux = 0\n",
    "\n",
    "    #Começamos gerando a raiz da árvore, definindo que ela é a raiz e seu valor como 0\n",
    "    ano.append(\"Contribuições por Idade de Conta - \" + projeto)\n",
    "    pais.append(\"\")\n",
    "    quantidade.append(0)\n",
    "\n",
    "    #For responsavél por percorrer o tamanho da variavél contribuicoes\n",
    "    for x in range(len(contribuicoes)):\n",
    "        #Aqui é separado o projeto escolhido ou se todos devem ser considerados\n",
    "        if projeto == \"Geral\" or contribuicoes['Projeto'][x] == projeto:\n",
    "            #Neste ponto, caso o ano seja diferente do anterior, ele agrega o novo ano de criação, diz de quem ele é filho e coloca seu valor\n",
    "            if x != 0 and contribuicoes['Criado_em_Ano'][x] != contribuicoes['Criado_em_Ano'][x - 1]:\n",
    "                ano.append(contribuicoes['Criado_em_Ano'][x])\n",
    "                pais.append(\"Contribuições por Idade de Conta - \" + projeto)\n",
    "                quantidade.append(int(contribuicoes['Quantidade'][x]) * int(contribuicoes['Contribuições'][x]))\n",
    "                aux += 1\n",
    "            #Caso seja o primeiro registro, ele marca como os demais\n",
    "            elif x == 0:\n",
    "                ano.append(contribuicoes['Criado_em_Ano'][x])\n",
    "                quantidade.append(int(contribuicoes['Quantidade'][x]) * int(contribuicoes['Contribuições'][x]))\n",
    "                pais.append(\"Contribuições por Idade de Conta - \" + projeto)\n",
    "                aux += 1\n",
    "            #Caso não seja um primeiro registro ou mudança de ano, ele soma o valor na quantidade preexistente\n",
    "            else:\n",
    "                quantidade[aux] = quantidade[aux] + (int(contribuicoes['Quantidade'][x]) * int(contribuicoes['Contribuições'][x]))\n",
    "                #É necessario multiplicar a Quantidade pelas Contribuições devido à organização da consulta que pode marcar 2 contas de 2025 fizeram 3 contribuições, ou seja, que contas de 2025 fizeram 6 contribuições, como pode haver diversas delas, é necessário somar com as que já foram contabilizadas\n",
    "\n",
    "            #Aqui é somado todas as contribuições ao pai para poder ser facilmente visualizado no gráfico\n",
    "            quantidade[0] = quantidade[0] + (int(contribuicoes['Quantidade'][x]) * int(contribuicoes['Contribuições'][x]))\n",
    "\n",
    "    #Criação do Treemap\n",
    "    fig = px.treemap(\n",
    "        names=ano, values=quantidade, parents=pais,\n",
    "        title=(\"Contribuições por Idade de Conta - \" + projeto),\n",
    "        branchvalues='total'\n",
    "    )\n",
    "    fig.update_traces(root_color=\"lightgrey\")\n",
    "    fig.update_layout(margin=dict(t=50, l=25, r=25, b=25))\n",
    "    fig.show()"
   ],
   "outputs": [],
   "execution_count": null
  },
  {
   "cell_type": "code",
   "id": "2da241b02ac2cb6b",
   "metadata": {},
   "source": [
    "interact(graficocontribuicoes, projeto=projetos);"
   ],
   "outputs": [],
   "execution_count": null
  }
 ],
 "metadata": {
  "kernelspec": {
   "display_name": "Python 3 (ipykernel)",
   "language": "python",
   "name": "python3"
  },
  "language_info": {
   "codemirror_mode": {
    "name": "ipython",
    "version": 3
   },
   "file_extension": ".py",
   "mimetype": "text/x-python",
   "name": "python",
   "nbconvert_exporter": "python",
   "pygments_lexer": "ipython3",
   "version": "3.13.4"
  }
 },
 "nbformat": 4,
 "nbformat_minor": 5
}
