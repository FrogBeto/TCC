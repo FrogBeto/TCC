{
 "cells": [
  {
   "cell_type": "code",
   "id": "da930b07-c407-4775-b036-0e14b6bd82b1",
   "metadata": {
    "ExecuteTime": {
     "end_time": "2025-10-02T20:35:02.987389Z",
     "start_time": "2025-10-02T20:35:02.984792Z"
    }
   },
   "source": [
    "import numpy as np\n",
    "import pandas as pd\n",
    "import matplotlib.pyplot as plt\n",
    "from ipywidgets import interact, fixed, interact_manual\n",
    "import ipywidgets as widgets\n"
   ],
   "outputs": [],
   "execution_count": 225
  },
  {
   "cell_type": "code",
   "id": "aa15ba96-320e-4fa5-a4b9-205cb4d534c1",
   "metadata": {
    "ExecuteTime": {
     "end_time": "2025-10-02T20:35:03.017203Z",
     "start_time": "2025-10-02T20:35:02.991242Z"
    }
   },
   "source": [
    "df = pd.read_csv('CSVs/Dados Finais/dadosFinais2.csv', sep=';')\n",
    "lista = pd.read_csv('CSVs/Dados Brutos/projetos.csv', sep='\\t').sort_values(['Projeto'], ascending=True).reset_index(drop=True)"
   ],
   "outputs": [],
   "execution_count": 226
  },
  {
   "metadata": {
    "ExecuteTime": {
     "end_time": "2025-10-02T20:35:03.023712Z",
     "start_time": "2025-10-02T20:35:03.021508Z"
    }
   },
   "cell_type": "code",
   "source": [
    "projetos = []\n",
    "\n",
    "for x in lista['Projeto']:\n",
    "    projetos.append(x)"
   ],
   "id": "5e066e0dde6e0def",
   "outputs": [],
   "execution_count": 227
  },
  {
   "metadata": {
    "ExecuteTime": {
     "end_time": "2025-10-02T20:35:03.037593Z",
     "start_time": "2025-10-02T20:35:03.027255Z"
    }
   },
   "cell_type": "code",
   "source": [
    "def graficopais(projeto):\n",
    "    if projeto == \"Geral\":\n",
    "        paises = df.groupby(['País']).sum().reset_index().sort_values('Contribuições', ascending=False).reset_index(drop=True)\n",
    "    else:\n",
    "        paises = df.groupby(['País', 'Projeto']).sum().reset_index().sort_values(['Projeto', 'Contribuições'], ascending=False).reset_index(drop=True)\n",
    "\n",
    "    temp = []\n",
    "    temp2 = []\n",
    "    contador = 0\n",
    "\n",
    "    for x in range(len(paises)):\n",
    "        if paises['Projeto'][x] == projeto or projeto == \"Geral\":\n",
    "            if paises['País'][x] != \"<null>\" and contador < 10:\n",
    "                temp.append(paises['País'][x])\n",
    "                temp2.append(paises['Contribuições'][x])\n",
    "                contador += 1\n",
    "\n",
    "    plt.bar(temp, temp2, zorder=2)\n",
    "    plt.title(\"Contribuições por País - \" + projeto)\n",
    "    plt.xlabel(\"Países\")\n",
    "    plt.ylabel(\"Número de contribuições\")\n",
    "    plt.grid(axis='y', linestyle='--', zorder=1)\n",
    "    plt.xticks(temp, rotation='vertical')\n",
    "    #plt.tick_params(axis='x', which='major', labelsize=6)\n",
    "    plt.show()"
   ],
   "id": "c770e7538fe770b1",
   "outputs": [],
   "execution_count": 228
  },
  {
   "metadata": {
    "ExecuteTime": {
     "end_time": "2025-10-02T20:35:03.044716Z",
     "start_time": "2025-10-02T20:35:03.041753Z"
    }
   },
   "cell_type": "code",
   "source": [
    "def graficoabandonos(projeto):\n",
    "    paises = df.groupby(['Projeto', 'Atualizado_em_Ano']).size().reset_index(name='Quantidade').sort_values(['Projeto', 'Atualizado_em_Ano'], ascending=False).reset_index(drop=True)\n",
    "\n",
    "    temp = []\n",
    "    temp2 = []\n",
    "    outros = 0\n",
    "\n",
    "    for x in range(len(paises)):\n",
    "        if paises['Projeto'][x] == projeto:\n",
    "            if paises['Atualizado_em_Ano'][x] == 2025 or paises['Atualizado_em_Ano'][x] == 2024:\n",
    "                temp.append(paises['Atualizado_em_Ano'][x])\n",
    "                temp2.append(paises['Quantidade'][x])\n",
    "            else:\n",
    "                outros = outros + paises['Quantidade'][x]\n",
    "\n",
    "    temp.append('Outros Anos')\n",
    "    temp2.append(outros)\n",
    "    plt.title(\"Último Ano de Atividade - \" + projeto)\n",
    "    plt.pie(\n",
    "        temp2,\n",
    "        labels=temp,\n",
    "        autopct='%1.1f%%',\n",
    "    )\n",
    "    plt.show()"
   ],
   "id": "b4f2c762d744efa1",
   "outputs": [],
   "execution_count": 229
  },
  {
   "metadata": {
    "ExecuteTime": {
     "end_time": "2025-10-02T20:35:03.051459Z",
     "start_time": "2025-10-02T20:35:03.047802Z"
    }
   },
   "cell_type": "code",
   "source": [
    "def graficocriacao(projeto):\n",
    "    criacao = df.groupby(['Projeto', 'Criado_em_Ano']).size().reset_index(name='Quantidade').sort_values('Projeto', ascending=False).reset_index(drop=True)\n",
    "\n",
    "    temp = []\n",
    "    temp2 = []\n",
    "\n",
    "    for x in range(len(criacao)):\n",
    "        if criacao['Projeto'][x] == projeto:\n",
    "            temp.append(criacao['Criado_em_Ano'][x])\n",
    "            temp2.append(criacao['Quantidade'][x])\n",
    "\n",
    "    plt.title(\"Idade das Contas - \" + projeto)\n",
    "    plt.bar(temp, temp2, zorder=2)\n",
    "    plt.xlabel(\"Ano de Criação\")\n",
    "    plt.ylabel(\"Número de Contas\")\n",
    "    plt.grid(axis='y', linestyle='--', zorder=1)\n",
    "    plt.show()"
   ],
   "id": "de8a5b4105b31f99",
   "outputs": [],
   "execution_count": 230
  },
  {
   "metadata": {
    "ExecuteTime": {
     "end_time": "2025-10-02T20:35:03.150416Z",
     "start_time": "2025-10-02T20:35:03.057204Z"
    }
   },
   "cell_type": "code",
   "source": "interact(graficopais, projeto=projetos);",
   "id": "8288a001d25e6d02",
   "outputs": [
    {
     "data": {
      "text/plain": [
       "interactive(children=(Dropdown(description='projeto', options=('Geral', 'Tasmota', 'TypeScript', 'angular', 'a…"
      ],
      "application/vnd.jupyter.widget-view+json": {
       "version_major": 2,
       "version_minor": 0,
       "model_id": "2dbcfe20275c4165bdeb86f24ec563f3"
      }
     },
     "metadata": {},
     "output_type": "display_data"
    }
   ],
   "execution_count": 231
  },
  {
   "metadata": {
    "ExecuteTime": {
     "end_time": "2025-10-02T20:35:03.441390Z",
     "start_time": "2025-10-02T20:35:03.153922Z"
    }
   },
   "cell_type": "code",
   "source": "interact(graficoabandonos, projeto=projetos);",
   "id": "85c4cbbde2a8f670",
   "outputs": [
    {
     "data": {
      "text/plain": [
       "interactive(children=(Dropdown(description='projeto', options=('Geral', 'Tasmota', 'TypeScript', 'angular', 'a…"
      ],
      "application/vnd.jupyter.widget-view+json": {
       "version_major": 2,
       "version_minor": 0,
       "model_id": "56c6944592dc4ed18f2c4feba315c793"
      }
     },
     "metadata": {},
     "output_type": "display_data"
    }
   ],
   "execution_count": 232
  },
  {
   "metadata": {
    "ExecuteTime": {
     "end_time": "2025-10-02T20:35:03.541838Z",
     "start_time": "2025-10-02T20:35:03.452655Z"
    }
   },
   "cell_type": "code",
   "source": "interact(graficopais, projeto=projetos);",
   "id": "98dcdd4409404c70",
   "outputs": [
    {
     "data": {
      "text/plain": [
       "interactive(children=(Dropdown(description='projeto', options=('Geral', 'Tasmota', 'TypeScript', 'angular', 'a…"
      ],
      "application/vnd.jupyter.widget-view+json": {
       "version_major": 2,
       "version_minor": 0,
       "model_id": "521ab0aa662e4092afd44dadbdf30328"
      }
     },
     "metadata": {},
     "output_type": "display_data"
    }
   ],
   "execution_count": 233
  }
 ],
 "metadata": {
  "kernelspec": {
   "display_name": "Python 3 (ipykernel)",
   "language": "python",
   "name": "python3"
  },
  "language_info": {
   "codemirror_mode": {
    "name": "ipython",
    "version": 3
   },
   "file_extension": ".py",
   "mimetype": "text/x-python",
   "name": "python",
   "nbconvert_exporter": "python",
   "pygments_lexer": "ipython3",
   "version": "3.13.4"
  }
 },
 "nbformat": 4,
 "nbformat_minor": 5
}
