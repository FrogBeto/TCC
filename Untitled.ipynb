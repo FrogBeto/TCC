{
 "cells": [
  {
   "cell_type": "code",
   "execution_count": 1,
   "id": "da930b07-c407-4775-b036-0e14b6bd82b1",
   "metadata": {
    "ExecuteTime": {
     "end_time": "2025-10-06T21:25:25.519055Z",
     "start_time": "2025-10-06T21:25:25.516396Z"
    }
   },
   "outputs": [],
   "source": [
    "import numpy as np\n",
    "import pandas as pd\n",
    "import matplotlib.pyplot as plt\n",
    "from ipywidgets import interact\n",
    "import plotly.express as px\n"
   ]
  },
  {
   "cell_type": "code",
   "execution_count": 2,
   "id": "aa15ba96-320e-4fa5-a4b9-205cb4d534c1",
   "metadata": {
    "ExecuteTime": {
     "end_time": "2025-10-06T21:25:25.553194Z",
     "start_time": "2025-10-06T21:25:25.523710Z"
    }
   },
   "outputs": [],
   "source": [
    "df = pd.read_csv('CSVs/Dados Finais/dadosFinais2.csv', sep=';')\n",
    "lista = pd.read_csv('CSVs/Dados Brutos/projetos.csv', sep='\\t').sort_values(['Projeto'], ascending=True).reset_index(drop=True)"
   ]
  },
  {
   "cell_type": "code",
   "execution_count": 3,
   "id": "5e066e0dde6e0def",
   "metadata": {
    "ExecuteTime": {
     "end_time": "2025-10-06T21:25:25.559639Z",
     "start_time": "2025-10-06T21:25:25.557605Z"
    }
   },
   "outputs": [],
   "source": [
    "projetos = []\n",
    "\n",
    "for x in lista['Projeto']:\n",
    "    projetos.append(x)"
   ]
  },
  {
   "cell_type": "code",
   "execution_count": 4,
   "id": "c770e7538fe770b1",
   "metadata": {
    "ExecuteTime": {
     "end_time": "2025-10-06T21:25:25.567278Z",
     "start_time": "2025-10-06T21:25:25.563797Z"
    }
   },
   "outputs": [],
   "source": [
    "def graficopais(projeto):\n",
    "    if projeto == \"Geral\":\n",
    "        paises = df.groupby(['País']).sum().reset_index().sort_values('Contribuições', ascending=False).reset_index(drop=True)\n",
    "    else:\n",
    "        paises = df.groupby(['País', 'Projeto']).sum().reset_index().sort_values(['Projeto', 'Contribuições'], ascending=False).reset_index(drop=True)\n",
    "\n",
    "    temp = []\n",
    "    temp2 = []\n",
    "    contador = 0\n",
    "\n",
    "    for x in range(len(paises)):\n",
    "        if projeto == \"Geral\" or paises['Projeto'][x] == projeto:\n",
    "            if paises['País'][x] != \"<null>\" and contador < 10:\n",
    "                temp.append(paises['País'][x])\n",
    "                temp2.append(paises['Contribuições'][x])\n",
    "                contador += 1\n",
    "\n",
    "    plt.bar(temp, temp2, zorder=2)\n",
    "    plt.title(\"Contribuições por País - \" + projeto)\n",
    "    plt.xlabel(\"Países\")\n",
    "    plt.ylabel(\"Número de contribuições\")\n",
    "    plt.grid(axis='y', linestyle='--', zorder=1)\n",
    "    plt.xticks(temp, rotation='vertical')\n",
    "    plt.show()"
   ]
  },
  {
   "cell_type": "code",
   "execution_count": 5,
   "id": "8288a001d25e6d02",
   "metadata": {
    "ExecuteTime": {
     "end_time": "2025-10-06T21:25:25.666157Z",
     "start_time": "2025-10-06T21:25:25.571748Z"
    }
   },
   "outputs": [
    {
     "data": {
      "application/vnd.jupyter.widget-view+json": {
       "model_id": "0c89513bc0144bbcb3e17d2e82adfeef",
       "version_major": 2,
       "version_minor": 0
      },
      "text/plain": [
       "interactive(children=(Dropdown(description='projeto', options=('Geral', 'Tasmota', 'TypeScript', 'angular', 'a…"
      ]
     },
     "metadata": {},
     "output_type": "display_data"
    }
   ],
   "source": [
    "interact(graficopais, projeto=projetos);"
   ]
  },
  {
   "cell_type": "code",
   "execution_count": 6,
   "id": "b4f2c762d744efa1",
   "metadata": {
    "ExecuteTime": {
     "end_time": "2025-10-06T21:25:25.678998Z",
     "start_time": "2025-10-06T21:25:25.675137Z"
    }
   },
   "outputs": [],
   "source": [
    "def graficoabandonos(projeto):\n",
    "    if projeto == \"Geral\":\n",
    "        abandonos = df.groupby(['Atualizado_em_Ano']).size().reset_index(name='Quantidade').sort_values('Atualizado_em_Ano', ascending=False).reset_index(drop=True)\n",
    "    else:\n",
    "        abandonos = df.groupby(['Projeto', 'Atualizado_em_Ano']).size().reset_index(name='Quantidade').sort_values(['Projeto', 'Atualizado_em_Ano'], ascending=False).reset_index(drop=True)\n",
    "\n",
    "    temp = []\n",
    "    temp2 = []\n",
    "    outros = 0\n",
    "\n",
    "    for x in range(len(abandonos)):\n",
    "        if projeto == \"Geral\" or abandonos['Projeto'][x] == projeto:\n",
    "            if abandonos['Atualizado_em_Ano'][x] == 2025 or abandonos['Atualizado_em_Ano'][x] == 2024:\n",
    "                temp.append(abandonos['Atualizado_em_Ano'][x])\n",
    "                temp2.append(abandonos['Quantidade'][x])\n",
    "            else:\n",
    "                outros = outros + abandonos['Quantidade'][x]\n",
    "\n",
    "    temp.append('Outros Anos')\n",
    "    temp2.append(outros)\n",
    "    plt.title(\"Último Ano de Atividade - \" + projeto)\n",
    "    plt.pie(\n",
    "        temp2,\n",
    "        labels=temp,\n",
    "        autopct='%1.1f%%',\n",
    "    )\n",
    "    plt.show()"
   ]
  },
  {
   "cell_type": "code",
   "execution_count": 7,
   "id": "85c4cbbde2a8f670",
   "metadata": {
    "ExecuteTime": {
     "end_time": "2025-10-06T21:25:25.721219Z",
     "start_time": "2025-10-06T21:25:25.683896Z"
    }
   },
   "outputs": [
    {
     "data": {
      "application/vnd.jupyter.widget-view+json": {
       "model_id": "d0e918784990461d8e97f148ec8775df",
       "version_major": 2,
       "version_minor": 0
      },
      "text/plain": [
       "interactive(children=(Dropdown(description='projeto', options=('Geral', 'Tasmota', 'TypeScript', 'angular', 'a…"
      ]
     },
     "metadata": {},
     "output_type": "display_data"
    }
   ],
   "source": [
    "interact(graficoabandonos, projeto=projetos);"
   ]
  },
  {
   "cell_type": "code",
   "execution_count": 8,
   "id": "de8a5b4105b31f99",
   "metadata": {
    "ExecuteTime": {
     "end_time": "2025-10-06T21:25:25.733842Z",
     "start_time": "2025-10-06T21:25:25.729670Z"
    }
   },
   "outputs": [],
   "source": [
    "def graficocriacao(projeto):\n",
    "    if projeto == \"Geral\":\n",
    "        criacao = df.groupby(['Criado_em_Ano']).size().reset_index(name='Quantidade').sort_values('Criado_em_Ano', ascending=False).reset_index(drop=True)\n",
    "    else:\n",
    "        criacao = df.groupby(['Projeto', 'Criado_em_Ano']).size().reset_index(name='Quantidade').sort_values('Projeto', ascending=False).reset_index(drop=True)\n",
    "\n",
    "    temp = []\n",
    "    temp2 = []\n",
    "\n",
    "    for x in range(len(criacao)):\n",
    "        if projeto == \"Geral\" or criacao['Projeto'][x] == projeto:\n",
    "            temp.append(criacao['Criado_em_Ano'][x])\n",
    "            temp2.append(criacao['Quantidade'][x])\n",
    "\n",
    "    plt.title(\"Idade das Contas - \" + projeto)\n",
    "    plt.bar(temp, temp2, zorder=2)\n",
    "    plt.xlabel(\"Ano de Criação\")\n",
    "    plt.ylabel(\"Número de Contas\")\n",
    "    plt.grid(axis='y', linestyle='--', zorder=1)\n",
    "    plt.show()"
   ]
  },
  {
   "cell_type": "code",
   "execution_count": 9,
   "id": "98dcdd4409404c70",
   "metadata": {
    "ExecuteTime": {
     "end_time": "2025-10-06T21:25:25.807130Z",
     "start_time": "2025-10-06T21:25:25.739098Z"
    }
   },
   "outputs": [
    {
     "data": {
      "application/vnd.jupyter.widget-view+json": {
       "model_id": "9401f9950e7045f6821826e392910873",
       "version_major": 2,
       "version_minor": 0
      },
      "text/plain": [
       "interactive(children=(Dropdown(description='projeto', options=('Geral', 'Tasmota', 'TypeScript', 'angular', 'a…"
      ]
     },
     "metadata": {},
     "output_type": "display_data"
    }
   ],
   "source": [
    "interact(graficocriacao, projeto=projetos);"
   ]
  },
  {
   "cell_type": "code",
   "execution_count": 10,
   "id": "fd745a7d411fbf8e",
   "metadata": {
    "ExecuteTime": {
     "end_time": "2025-10-06T21:25:25.821776Z",
     "start_time": "2025-10-06T21:25:25.816565Z"
    }
   },
   "outputs": [],
   "source": [
    "def graficocontribuicoes(projeto):\n",
    "    if projeto == \"Geral\":\n",
    "        contribuicoes = df.groupby(['Criado_em_Ano', 'Contribuições']).size().reset_index(name='Quantidade')\n",
    "    else:\n",
    "        contribuicoes = df.groupby(['Criado_em_Ano', 'Contribuições', 'Projeto']).size().reset_index(\n",
    "            name='Quantidade').sort_values(by=['Projeto', 'Criado_em_Ano'], ascending=False).reset_index(drop=True)\n",
    "\n",
    "    temp = []\n",
    "    temp2 = []\n",
    "    temp3 = []\n",
    "    aux = 0\n",
    "\n",
    "    temp.append(\"Contribuições por Idade de Conta - \" + projeto)\n",
    "    temp3.append(\"\")\n",
    "    temp2.append(0)\n",
    "\n",
    "    for x in range(len(contribuicoes)):\n",
    "        if projeto == \"Geral\" or contribuicoes['Projeto'][x] == projeto:\n",
    "            if x != 0 and contribuicoes['Criado_em_Ano'][x] != contribuicoes['Criado_em_Ano'][x - 1]:\n",
    "                temp.append(contribuicoes['Criado_em_Ano'][x])\n",
    "                temp3.append(\"Contribuições por Idade de Conta - \" + projeto)\n",
    "                temp2.append(int(contribuicoes['Quantidade'][x]) * int(contribuicoes['Contribuições'][x]))\n",
    "                aux += 1\n",
    "            elif x == 0:\n",
    "                temp.append(contribuicoes['Criado_em_Ano'][x])\n",
    "                temp2.append(int(contribuicoes['Quantidade'][x]) * int(contribuicoes['Contribuições'][x]))\n",
    "                temp3.append(\"Contribuições por Idade de Conta - \" + projeto)\n",
    "                aux += 1\n",
    "            else:\n",
    "                temp2[aux] = temp2[aux] + (int(contribuicoes['Quantidade'][x]) * int(contribuicoes['Contribuições'][x]))\n",
    "\n",
    "            temp2[0] = temp2[0] + (int(contribuicoes['Quantidade'][x]) * int(contribuicoes['Contribuições'][x]))\n",
    "\n",
    "    fig = px.treemap(\n",
    "        names=temp, values=temp2, parents=temp3,\n",
    "        title=(\"Contribuições por Idade de Conta - \" + projeto),\n",
    "        branchvalues='total'\n",
    "    )\n",
    "    fig.update_traces(root_color=\"lightgrey\")\n",
    "    fig.update_layout(margin=dict(t=50, l=25, r=25, b=25))\n",
    "    fig.show()"
   ]
  },
  {
   "cell_type": "code",
   "id": "2da241b02ac2cb6b",
   "metadata": {
    "ExecuteTime": {
     "end_time": "2025-10-06T21:32:26.264897Z",
     "start_time": "2025-10-06T21:32:26.209596Z"
    }
   },
   "source": [
    "interact(graficocontribuicoes, projeto=projetos);"
   ],
   "outputs": [
    {
     "data": {
      "text/plain": [
       "interactive(children=(Dropdown(description='projeto', options=('Geral', 'Tasmota', 'TypeScript', 'angular', 'a…"
      ],
      "application/vnd.jupyter.widget-view+json": {
       "version_major": 2,
       "version_minor": 0,
       "model_id": "d7a3d464d828466dbe8663e693811d9d"
      }
     },
     "metadata": {},
     "output_type": "display_data"
    }
   ],
   "execution_count": 76
  }
 ],
 "metadata": {
  "kernelspec": {
   "display_name": "Python 3 (ipykernel)",
   "language": "python",
   "name": "python3"
  },
  "language_info": {
   "codemirror_mode": {
    "name": "ipython",
    "version": 3
   },
   "file_extension": ".py",
   "mimetype": "text/x-python",
   "name": "python",
   "nbconvert_exporter": "python",
   "pygments_lexer": "ipython3",
   "version": "3.13.4"
  }
 },
 "nbformat": 4,
 "nbformat_minor": 5
}
