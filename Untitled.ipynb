{
 "cells": [
  {
   "cell_type": "code",
   "id": "da930b07-c407-4775-b036-0e14b6bd82b1",
   "metadata": {
    "ExecuteTime": {
     "end_time": "2025-10-02T19:18:47.559012Z",
     "start_time": "2025-10-02T19:18:47.556093Z"
    }
   },
   "source": [
    "import numpy as np\n",
    "import pandas as pd\n",
    "import matplotlib.pyplot as plt\n",
    "from ipywidgets import interact, fixed, interact_manual\n",
    "import ipywidgets as widgets\n"
   ],
   "outputs": [],
   "execution_count": 129
  },
  {
   "cell_type": "code",
   "id": "aa15ba96-320e-4fa5-a4b9-205cb4d534c1",
   "metadata": {
    "ExecuteTime": {
     "end_time": "2025-10-02T19:18:47.586812Z",
     "start_time": "2025-10-02T19:18:47.564140Z"
    }
   },
   "source": [
    "df = pd.read_csv('CSVs/Dados Finais/dadosFinais2.csv', sep=';')\n",
    "lista = pd.read_csv('CSVs/Dados Brutos/projetos.csv', sep='\\t').sort_values(['Projeto'], ascending=True).reset_index(drop=True)"
   ],
   "outputs": [],
   "execution_count": 130
  },
  {
   "metadata": {
    "ExecuteTime": {
     "end_time": "2025-10-02T19:18:47.593543Z",
     "start_time": "2025-10-02T19:18:47.591574Z"
    }
   },
   "cell_type": "code",
   "source": [
    "projetos = []\n",
    "\n",
    "for x in lista['Projeto']:\n",
    "    projetos.append(x)"
   ],
   "id": "5e066e0dde6e0def",
   "outputs": [],
   "execution_count": 131
  },
  {
   "metadata": {
    "ExecuteTime": {
     "end_time": "2025-10-02T19:18:47.600831Z",
     "start_time": "2025-10-02T19:18:47.597267Z"
    }
   },
   "cell_type": "code",
   "source": [
    "def graficopais(projeto):\n",
    "    paises = df.groupby(['País', 'Projeto']).sum().reset_index().sort_values(['Projeto', 'Contribuições'], ascending=False).reset_index(drop=True)\n",
    "\n",
    "    temp = []\n",
    "    temp2 = []\n",
    "    contador = 0\n",
    "\n",
    "    for x in range(len(paises)):\n",
    "        if paises['Projeto'][x] == projeto and paises['País'][x] != \"<null>\" and contador < 10:\n",
    "            temp.append(paises['País'][x])\n",
    "            temp2.append(paises['Contribuições'][x])\n",
    "            contador += 1\n",
    "\n",
    "    plt.bar(temp, temp2, zorder=2)\n",
    "    plt.title(\"Contribuições por País - \" + projeto)\n",
    "    plt.xlabel(\"Países\")\n",
    "    plt.ylabel(\"Número de contribuições\")\n",
    "    plt.grid(axis='y', linestyle='--', zorder=1)\n",
    "    plt.xticks(temp, rotation='vertical')\n",
    "    #plt.tick_params(axis='x', which='major', labelsize=6)\n",
    "    plt.show()"
   ],
   "id": "c770e7538fe770b1",
   "outputs": [],
   "execution_count": 132
  },
  {
   "metadata": {
    "ExecuteTime": {
     "end_time": "2025-10-02T19:18:47.685498Z",
     "start_time": "2025-10-02T19:18:47.604067Z"
    }
   },
   "cell_type": "code",
   "source": "interact(graficopais, projeto=projetos);",
   "id": "8288a001d25e6d02",
   "outputs": [
    {
     "data": {
      "text/plain": [
       "interactive(children=(Dropdown(description='projeto', options=('Tasmota', 'TypeScript', 'angular', 'ansible', …"
      ],
      "application/vnd.jupyter.widget-view+json": {
       "version_major": 2,
       "version_minor": 0,
       "model_id": "c33dfa18b3ec4b669ab6150f8b26259b"
      }
     },
     "metadata": {},
     "output_type": "display_data"
    }
   ],
   "execution_count": 133
  }
 ],
 "metadata": {
  "kernelspec": {
   "display_name": "Python 3 (ipykernel)",
   "language": "python",
   "name": "python3"
  },
  "language_info": {
   "codemirror_mode": {
    "name": "ipython",
    "version": 3
   },
   "file_extension": ".py",
   "mimetype": "text/x-python",
   "name": "python",
   "nbconvert_exporter": "python",
   "pygments_lexer": "ipython3",
   "version": "3.13.4"
  }
 },
 "nbformat": 4,
 "nbformat_minor": 5
}
